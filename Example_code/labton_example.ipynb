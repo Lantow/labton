{
 "cells": [
  {
   "cell_type": "markdown",
   "id": "58d086f0",
   "metadata": {},
   "source": [
    "# Data:\n",
    "\n",
    "## - Fetch data from web"
   ]
  },
  {
   "cell_type": "code",
   "execution_count": null,
   "id": "00f95a0b",
   "metadata": {},
   "outputs": [],
   "source": [
    "!wget -O reuters_toy_sample.csv https://raw.githubusercontent.com/Lantow/labton/main/src/labton/data/csv_text/labton_default_project.csv"
   ]
  },
  {
   "cell_type": "markdown",
   "id": "3d20c1f8",
   "metadata": {},
   "source": [
    "## - Load data into DataFrame"
   ]
  },
  {
   "cell_type": "code",
   "execution_count": null,
   "id": "394fd517",
   "metadata": {},
   "outputs": [],
   "source": [
    "from pandas import read_csv\n",
    "df = read_csv(\"reuters_toy_sample.csv\", \n",
    "                        sep=\"§\", keep_default_na=False,\n",
    "                        engine='python', skipinitialspace=True,\n",
    "                        names=[\"Full_article\", \"Headline\", \"Date\"])\n",
    "df.head()"
   ]
  },
  {
   "cell_type": "markdown",
   "id": "5ddd0a81",
   "metadata": {},
   "source": [
    " ## - Load data into Labton format"
   ]
  },
  {
   "cell_type": "code",
   "execution_count": null,
   "id": "3ca24fda",
   "metadata": {},
   "outputs": [],
   "source": [
    "from labton.labton_backend.helper_funcs import create_dataframe_template\n",
    "\n",
    "df_labton = create_dataframe_template()\n",
    "df_labton.paragraph_text = df.Full_article\n",
    "df_labton.document_name = df.Headline\n",
    "df_labton.page_nr = df.Date\n",
    "df_labton.head()"
   ]
  },
  {
   "cell_type": "markdown",
   "id": "07555dc1",
   "metadata": {},
   "source": [
    "## - Instantiate Labton app with data and boot up "
   ]
  },
  {
   "cell_type": "code",
   "execution_count": null,
   "id": "9538fdbb",
   "metadata": {},
   "outputs": [],
   "source": [
    "from labton.annotation_app import App\n",
    "\n",
    "app = App(data_source=df_labton, \n",
    "          classes=[\"Interest-rates\", \"Shipping\", \"Money-exchange\", \"Trade-in-goods\"],\n",
    "          project_name=\"reuters_text_annotaion\")\n",
    "app.run()"
   ]
  },
  {
   "cell_type": "code",
   "execution_count": null,
   "id": "b63ed863",
   "metadata": {},
   "outputs": [],
   "source": [
    "from labton.labton_backend.helper_funcs import get_labton_data\n",
    "df_annotated = get_labton_data(\"reuters_text_annotaion\")\n",
    "df_annotated.head()"
   ]
  }
 ],
 "metadata": {
  "kernelspec": {
   "display_name": "Python 3.7.12 64-bit ('labton')",
   "language": "python",
   "name": "python3"
  },
  "language_info": {
   "codemirror_mode": {
    "name": "ipython",
    "version": 3
   },
   "file_extension": ".py",
   "mimetype": "text/x-python",
   "name": "python",
   "nbconvert_exporter": "python",
   "pygments_lexer": "ipython3",
   "version": "3.7.12"
  },
  "vscode": {
   "interpreter": {
    "hash": "69a0c6bf4fb477684eaa508518bbaf45f4650a7f8ed8893b475a398d908ed622"
   }
  }
 },
 "nbformat": 4,
 "nbformat_minor": 5
}
