{
 "cells": [
  {
   "cell_type": "code",
   "execution_count": 1,
   "id": "6cebeab4",
   "metadata": {},
   "outputs": [
    {
     "name": "stderr",
     "output_type": "stream",
     "text": [
      "/home/golisto/labton/labton/data/Test_project.db\n"
     ]
    }
   ],
   "source": [
    "from labton.annotation_app import App"
   ]
  },
  {
   "cell_type": "code",
   "execution_count": null,
   "id": "33ce8f1d",
   "metadata": {},
   "outputs": [
    {
     "name": "stdout",
     "output_type": "stream",
     "text": [
      " * Serving Flask app 'labton.labton_ui.flask_annotater_page' (lazy loading)\n",
      " * Environment: production\n",
      "\u001b[31m   WARNING: This is a development server. Do not use it in a production deployment.\u001b[0m\n",
      "\u001b[2m   Use a production WSGI server instead.\u001b[0m\n",
      " * Debug mode: off\n"
     ]
    },
    {
     "name": "stderr",
     "output_type": "stream",
     "text": [
      " * Running on all addresses (0.0.0.0)\n",
      "   WARNING: This is a development server. Do not use it in a production deployment.\n",
      " * Running on http://127.0.0.1:8080\n",
      " * Running on http://192.168.1.222:8080 (Press CTRL+C to quit)\n",
      "127.0.0.1 - - [18/Jul/2022 12:27:40] \"GET / HTTP/1.1\" 200 -\n",
      "127.0.0.1 - - [18/Jul/2022 12:27:40] \"\u001b[36mGET /static/jquery.min.js HTTP/1.1\u001b[0m\" 304 -\n"
     ]
    },
    {
     "name": "stdout",
     "output_type": "stream",
     "text": [
      "Opening connection\n",
      "______________________________________________________________________\n",
      "ARE WE DIVING?? False\n",
      "STAYING IN THE FUTURE\n",
      "SENT SUPPOSED TO BE ON SCREEN\n",
      "None\n",
      "[1, 2, 3, 4, 5, 6, None]\n",
      "Closing connection\n",
      "Comitting\n"
     ]
    }
   ],
   "source": [
    "app = App()\n",
    "app.run()"
   ]
  },
  {
   "cell_type": "code",
   "execution_count": null,
   "id": "188fe5cc",
   "metadata": {},
   "outputs": [],
   "source": []
  }
 ],
 "metadata": {
  "kernelspec": {
   "display_name": "Python 3",
   "language": "python",
   "name": "python3"
  },
  "language_info": {
   "codemirror_mode": {
    "name": "ipython",
    "version": 3
   },
   "file_extension": ".py",
   "mimetype": "text/x-python",
   "name": "python",
   "nbconvert_exporter": "python",
   "pygments_lexer": "ipython3",
   "version": "3.8.0"
  }
 },
 "nbformat": 4,
 "nbformat_minor": 5
}
